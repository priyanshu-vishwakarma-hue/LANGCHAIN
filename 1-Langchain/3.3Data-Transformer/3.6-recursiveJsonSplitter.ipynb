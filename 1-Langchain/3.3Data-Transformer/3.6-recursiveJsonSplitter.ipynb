{
 "cells": [
  {
   "cell_type": "markdown",
   "id": "65974b2f",
   "metadata": {},
   "source": [
    "##### how to split JSON data"
   ]
  },
  {
   "cell_type": "code",
   "execution_count": null,
   "id": "8e7eeb13",
   "metadata": {},
   "outputs": [],
   "source": [
    "import json\n",
    "import requests\n",
    "\n",
    "api_url=\"https://jsonplaceholder.typicode.com/todos\"\n",
    "\n",
    "json_data=requests.get(\"https://jsonplaceholder.typicode.com/todos\").json()\n",
    "json_data"
   ]
  },
  {
   "cell_type": "code",
   "execution_count": null,
   "id": "b699d72f",
   "metadata": {},
   "outputs": [],
   "source": [
    "from langchain_text_splitters import RecursiveJsonSplitter\n",
    "\n",
    "json_splitter=RecursiveJsonSplitter(max_chunk_size=300)\n",
    "\n",
    "json_chunks=json_splitter.split_json(json_data, convert_lists=True)\n",
    "\n",
    "json_chunks\n",
    "\n"
   ]
  },
  {
   "cell_type": "code",
   "execution_count": null,
   "id": "16a68afc",
   "metadata": {},
   "outputs": [],
   "source": [
    "for chunk in json_chunks[:3]:\n",
    "    print(chunk)"
   ]
  },
  {
   "cell_type": "code",
   "execution_count": null,
   "id": "e6c257ae",
   "metadata": {},
   "outputs": [],
   "source": [
    "## the splitter can also output documents\n",
    "docs = json_splitter.create_documents(texts=[json_data], convert_lists=True)\n",
    "\n",
    "for doc in docs[:3]:\n",
    "    print(doc)"
   ]
  },
  {
   "cell_type": "code",
   "execution_count": null,
   "id": "b985e23a",
   "metadata": {},
   "outputs": [],
   "source": [
    "text=json_splitter.split_text(json_data, convert_lists=True)\n",
    "text"
   ]
  }
 ],
 "metadata": {
  "kernelspec": {
   "display_name": "venv",
   "language": "python",
   "name": "python3"
  },
  "language_info": {
   "codemirror_mode": {
    "name": "ipython",
    "version": 3
   },
   "file_extension": ".py",
   "mimetype": "text/x-python",
   "name": "python",
   "nbconvert_exporter": "python",
   "pygments_lexer": "ipython3",
   "version": "3.13.5"
  }
 },
 "nbformat": 4,
 "nbformat_minor": 5
}
